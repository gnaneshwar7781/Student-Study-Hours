{
  "cells": [
    {
      "cell_type": "markdown",
      "metadata": {
        "id": "view-in-github",
        "colab_type": "text"
      },
      "source": [
        "<a href=\"https://colab.research.google.com/github/gnaneshwar7781/Student-Study-Hours/blob/main/studentStudyPrediction.ipynb\" target=\"_parent\"><img src=\"https://colab.research.google.com/assets/colab-badge.svg\" alt=\"Open In Colab\"/></a>"
      ]
    },
    {
      "cell_type": "markdown",
      "id": "a4cde0d1",
      "metadata": {
        "papermill": {
          "duration": 0.007373,
          "end_time": "2022-08-20T18:30:51.766898",
          "exception": false,
          "start_time": "2022-08-20T18:30:51.759525",
          "status": "completed"
        },
        "tags": [],
        "id": "a4cde0d1"
      },
      "source": [
        "# **Prediction Using Supervised Machine Learning**\n"
      ]
    },
    {
      "cell_type": "markdown",
      "id": "d945efb9",
      "metadata": {
        "papermill": {
          "duration": 0.005676,
          "end_time": "2022-08-20T18:30:51.778872",
          "exception": false,
          "start_time": "2022-08-20T18:30:51.773196",
          "status": "completed"
        },
        "tags": [],
        "id": "d945efb9"
      },
      "source": [
        "# **Task** - Predict the Percentage of a student based on the number of study hours."
      ]
    },
    {
      "cell_type": "markdown",
      "id": "81832a47",
      "metadata": {
        "papermill": {
          "duration": 0.005707,
          "end_time": "2022-08-20T18:30:51.790771",
          "exception": false,
          "start_time": "2022-08-20T18:30:51.785064",
          "status": "completed"
        },
        "tags": [],
        "id": "81832a47"
      },
      "source": [
        "## importing the libraries"
      ]
    },
    {
      "cell_type": "code",
      "execution_count": 1,
      "id": "e13933e4",
      "metadata": {
        "_cell_guid": "b1076dfc-b9ad-4769-8c92-a6c4dae69d19",
        "_uuid": "8f2839f25d086af736a60e9eeb907d3b93b6e0e5",
        "execution": {
          "iopub.execute_input": "2022-08-20T18:30:51.806267Z",
          "iopub.status.busy": "2022-08-20T18:30:51.805039Z",
          "iopub.status.idle": "2022-08-20T18:30:53.471656Z",
          "shell.execute_reply": "2022-08-20T18:30:53.470250Z"
        },
        "papermill": {
          "duration": 1.67822,
          "end_time": "2022-08-20T18:30:53.474969",
          "exception": false,
          "start_time": "2022-08-20T18:30:51.796749",
          "status": "completed"
        },
        "tags": [],
        "id": "e13933e4"
      },
      "outputs": [],
      "source": [
        "#importing all the required libraries\n",
        "import pandas as pd\n",
        "import numpy as np\n",
        "from sklearn.linear_model import LinearRegression\n",
        "from sklearn.model_selection import train_test_split\n",
        "from sklearn.metrics import mean_absolute_error, mean_squared_error, r2_score\n",
        "import matplotlib.pyplot as plt\n",
        "import seaborn as sns"
      ]
    },
    {
      "cell_type": "code",
      "execution_count": 2,
      "id": "556cce48",
      "metadata": {
        "execution": {
          "iopub.execute_input": "2022-08-20T18:30:53.489451Z",
          "iopub.status.busy": "2022-08-20T18:30:53.488920Z",
          "iopub.status.idle": "2022-08-20T18:30:53.494943Z",
          "shell.execute_reply": "2022-08-20T18:30:53.493730Z"
        },
        "papermill": {
          "duration": 0.016731,
          "end_time": "2022-08-20T18:30:53.497764",
          "exception": false,
          "start_time": "2022-08-20T18:30:53.481033",
          "status": "completed"
        },
        "tags": [],
        "id": "556cce48"
      },
      "outputs": [],
      "source": [
        "import warnings\n",
        "warnings.filterwarnings('ignore')"
      ]
    },
    {
      "cell_type": "markdown",
      "id": "55ff2f10",
      "metadata": {
        "papermill": {
          "duration": 0.005627,
          "end_time": "2022-08-20T18:30:53.509429",
          "exception": false,
          "start_time": "2022-08-20T18:30:53.503802",
          "status": "completed"
        },
        "tags": [],
        "id": "55ff2f10"
      },
      "source": [
        "## reading the Data"
      ]
    },
    {
      "cell_type": "code",
      "execution_count": 3,
      "id": "92ffdb46",
      "metadata": {
        "execution": {
          "iopub.execute_input": "2022-08-20T18:30:53.523200Z",
          "iopub.status.busy": "2022-08-20T18:30:53.522732Z",
          "iopub.status.idle": "2022-08-20T18:30:53.538513Z",
          "shell.execute_reply": "2022-08-20T18:30:53.537320Z"
        },
        "papermill": {
          "duration": 0.025855,
          "end_time": "2022-08-20T18:30:53.541236",
          "exception": false,
          "start_time": "2022-08-20T18:30:53.515381",
          "status": "completed"
        },
        "tags": [],
        "id": "92ffdb46"
      },
      "outputs": [],
      "source": [
        "data = pd.read_csv('/content/score.csv')"
      ]
    },
    {
      "cell_type": "code",
      "execution_count": 4,
      "id": "531f8fcb",
      "metadata": {
        "execution": {
          "iopub.execute_input": "2022-08-20T18:30:53.556171Z",
          "iopub.status.busy": "2022-08-20T18:30:53.555215Z",
          "iopub.status.idle": "2022-08-20T18:30:53.577294Z",
          "shell.execute_reply": "2022-08-20T18:30:53.576167Z"
        },
        "papermill": {
          "duration": 0.032739,
          "end_time": "2022-08-20T18:30:53.580083",
          "exception": false,
          "start_time": "2022-08-20T18:30:53.547344",
          "status": "completed"
        },
        "tags": [],
        "colab": {
          "base_uri": "https://localhost:8080/",
          "height": 206
        },
        "id": "531f8fcb",
        "outputId": "fff826e4-f77e-4bf7-f4c5-4f3c6709a7fa"
      },
      "outputs": [
        {
          "output_type": "execute_result",
          "data": {
            "text/plain": [
              "   Hours  Scores\n",
              "0    2.5      21\n",
              "1    5.1      47\n",
              "2    3.2      27\n",
              "3    8.5      75\n",
              "4    3.5      30"
            ],
            "text/html": [
              "\n",
              "  <div id=\"df-d4676a7d-5636-4fd9-a2fc-96fde5dcbf2c\">\n",
              "    <div class=\"colab-df-container\">\n",
              "      <div>\n",
              "<style scoped>\n",
              "    .dataframe tbody tr th:only-of-type {\n",
              "        vertical-align: middle;\n",
              "    }\n",
              "\n",
              "    .dataframe tbody tr th {\n",
              "        vertical-align: top;\n",
              "    }\n",
              "\n",
              "    .dataframe thead th {\n",
              "        text-align: right;\n",
              "    }\n",
              "</style>\n",
              "<table border=\"1\" class=\"dataframe\">\n",
              "  <thead>\n",
              "    <tr style=\"text-align: right;\">\n",
              "      <th></th>\n",
              "      <th>Hours</th>\n",
              "      <th>Scores</th>\n",
              "    </tr>\n",
              "  </thead>\n",
              "  <tbody>\n",
              "    <tr>\n",
              "      <th>0</th>\n",
              "      <td>2.5</td>\n",
              "      <td>21</td>\n",
              "    </tr>\n",
              "    <tr>\n",
              "      <th>1</th>\n",
              "      <td>5.1</td>\n",
              "      <td>47</td>\n",
              "    </tr>\n",
              "    <tr>\n",
              "      <th>2</th>\n",
              "      <td>3.2</td>\n",
              "      <td>27</td>\n",
              "    </tr>\n",
              "    <tr>\n",
              "      <th>3</th>\n",
              "      <td>8.5</td>\n",
              "      <td>75</td>\n",
              "    </tr>\n",
              "    <tr>\n",
              "      <th>4</th>\n",
              "      <td>3.5</td>\n",
              "      <td>30</td>\n",
              "    </tr>\n",
              "  </tbody>\n",
              "</table>\n",
              "</div>\n",
              "      <button class=\"colab-df-convert\" onclick=\"convertToInteractive('df-d4676a7d-5636-4fd9-a2fc-96fde5dcbf2c')\"\n",
              "              title=\"Convert this dataframe to an interactive table.\"\n",
              "              style=\"display:none;\">\n",
              "        \n",
              "  <svg xmlns=\"http://www.w3.org/2000/svg\" height=\"24px\"viewBox=\"0 0 24 24\"\n",
              "       width=\"24px\">\n",
              "    <path d=\"M0 0h24v24H0V0z\" fill=\"none\"/>\n",
              "    <path d=\"M18.56 5.44l.94 2.06.94-2.06 2.06-.94-2.06-.94-.94-2.06-.94 2.06-2.06.94zm-11 1L8.5 8.5l.94-2.06 2.06-.94-2.06-.94L8.5 2.5l-.94 2.06-2.06.94zm10 10l.94 2.06.94-2.06 2.06-.94-2.06-.94-.94-2.06-.94 2.06-2.06.94z\"/><path d=\"M17.41 7.96l-1.37-1.37c-.4-.4-.92-.59-1.43-.59-.52 0-1.04.2-1.43.59L10.3 9.45l-7.72 7.72c-.78.78-.78 2.05 0 2.83L4 21.41c.39.39.9.59 1.41.59.51 0 1.02-.2 1.41-.59l7.78-7.78 2.81-2.81c.8-.78.8-2.07 0-2.86zM5.41 20L4 18.59l7.72-7.72 1.47 1.35L5.41 20z\"/>\n",
              "  </svg>\n",
              "      </button>\n",
              "      \n",
              "  <style>\n",
              "    .colab-df-container {\n",
              "      display:flex;\n",
              "      flex-wrap:wrap;\n",
              "      gap: 12px;\n",
              "    }\n",
              "\n",
              "    .colab-df-convert {\n",
              "      background-color: #E8F0FE;\n",
              "      border: none;\n",
              "      border-radius: 50%;\n",
              "      cursor: pointer;\n",
              "      display: none;\n",
              "      fill: #1967D2;\n",
              "      height: 32px;\n",
              "      padding: 0 0 0 0;\n",
              "      width: 32px;\n",
              "    }\n",
              "\n",
              "    .colab-df-convert:hover {\n",
              "      background-color: #E2EBFA;\n",
              "      box-shadow: 0px 1px 2px rgba(60, 64, 67, 0.3), 0px 1px 3px 1px rgba(60, 64, 67, 0.15);\n",
              "      fill: #174EA6;\n",
              "    }\n",
              "\n",
              "    [theme=dark] .colab-df-convert {\n",
              "      background-color: #3B4455;\n",
              "      fill: #D2E3FC;\n",
              "    }\n",
              "\n",
              "    [theme=dark] .colab-df-convert:hover {\n",
              "      background-color: #434B5C;\n",
              "      box-shadow: 0px 1px 3px 1px rgba(0, 0, 0, 0.15);\n",
              "      filter: drop-shadow(0px 1px 2px rgba(0, 0, 0, 0.3));\n",
              "      fill: #FFFFFF;\n",
              "    }\n",
              "  </style>\n",
              "\n",
              "      <script>\n",
              "        const buttonEl =\n",
              "          document.querySelector('#df-d4676a7d-5636-4fd9-a2fc-96fde5dcbf2c button.colab-df-convert');\n",
              "        buttonEl.style.display =\n",
              "          google.colab.kernel.accessAllowed ? 'block' : 'none';\n",
              "\n",
              "        async function convertToInteractive(key) {\n",
              "          const element = document.querySelector('#df-d4676a7d-5636-4fd9-a2fc-96fde5dcbf2c');\n",
              "          const dataTable =\n",
              "            await google.colab.kernel.invokeFunction('convertToInteractive',\n",
              "                                                     [key], {});\n",
              "          if (!dataTable) return;\n",
              "\n",
              "          const docLinkHtml = 'Like what you see? Visit the ' +\n",
              "            '<a target=\"_blank\" href=https://colab.research.google.com/notebooks/data_table.ipynb>data table notebook</a>'\n",
              "            + ' to learn more about interactive tables.';\n",
              "          element.innerHTML = '';\n",
              "          dataTable['output_type'] = 'display_data';\n",
              "          await google.colab.output.renderOutput(dataTable, element);\n",
              "          const docLink = document.createElement('div');\n",
              "          docLink.innerHTML = docLinkHtml;\n",
              "          element.appendChild(docLink);\n",
              "        }\n",
              "      </script>\n",
              "    </div>\n",
              "  </div>\n",
              "  "
            ]
          },
          "metadata": {},
          "execution_count": 4
        }
      ],
      "source": [
        "data.head()"
      ]
    },
    {
      "cell_type": "code",
      "execution_count": 5,
      "id": "c8ac76d5",
      "metadata": {
        "execution": {
          "iopub.execute_input": "2022-08-20T18:30:53.595407Z",
          "iopub.status.busy": "2022-08-20T18:30:53.594509Z",
          "iopub.status.idle": "2022-08-20T18:30:53.627363Z",
          "shell.execute_reply": "2022-08-20T18:30:53.626255Z"
        },
        "papermill": {
          "duration": 0.043286,
          "end_time": "2022-08-20T18:30:53.629816",
          "exception": false,
          "start_time": "2022-08-20T18:30:53.586530",
          "status": "completed"
        },
        "tags": [],
        "colab": {
          "base_uri": "https://localhost:8080/",
          "height": 300
        },
        "id": "c8ac76d5",
        "outputId": "38757d6b-70d6-469a-96b9-f3da7a5bb76c"
      },
      "outputs": [
        {
          "output_type": "execute_result",
          "data": {
            "text/plain": [
              "           Hours     Scores\n",
              "count  25.000000  25.000000\n",
              "mean    5.012000  51.480000\n",
              "std     2.525094  25.286887\n",
              "min     1.100000  17.000000\n",
              "25%     2.700000  30.000000\n",
              "50%     4.800000  47.000000\n",
              "75%     7.400000  75.000000\n",
              "max     9.200000  95.000000"
            ],
            "text/html": [
              "\n",
              "  <div id=\"df-147e0c4b-a97e-443d-b334-7a5485ae8167\">\n",
              "    <div class=\"colab-df-container\">\n",
              "      <div>\n",
              "<style scoped>\n",
              "    .dataframe tbody tr th:only-of-type {\n",
              "        vertical-align: middle;\n",
              "    }\n",
              "\n",
              "    .dataframe tbody tr th {\n",
              "        vertical-align: top;\n",
              "    }\n",
              "\n",
              "    .dataframe thead th {\n",
              "        text-align: right;\n",
              "    }\n",
              "</style>\n",
              "<table border=\"1\" class=\"dataframe\">\n",
              "  <thead>\n",
              "    <tr style=\"text-align: right;\">\n",
              "      <th></th>\n",
              "      <th>Hours</th>\n",
              "      <th>Scores</th>\n",
              "    </tr>\n",
              "  </thead>\n",
              "  <tbody>\n",
              "    <tr>\n",
              "      <th>count</th>\n",
              "      <td>25.000000</td>\n",
              "      <td>25.000000</td>\n",
              "    </tr>\n",
              "    <tr>\n",
              "      <th>mean</th>\n",
              "      <td>5.012000</td>\n",
              "      <td>51.480000</td>\n",
              "    </tr>\n",
              "    <tr>\n",
              "      <th>std</th>\n",
              "      <td>2.525094</td>\n",
              "      <td>25.286887</td>\n",
              "    </tr>\n",
              "    <tr>\n",
              "      <th>min</th>\n",
              "      <td>1.100000</td>\n",
              "      <td>17.000000</td>\n",
              "    </tr>\n",
              "    <tr>\n",
              "      <th>25%</th>\n",
              "      <td>2.700000</td>\n",
              "      <td>30.000000</td>\n",
              "    </tr>\n",
              "    <tr>\n",
              "      <th>50%</th>\n",
              "      <td>4.800000</td>\n",
              "      <td>47.000000</td>\n",
              "    </tr>\n",
              "    <tr>\n",
              "      <th>75%</th>\n",
              "      <td>7.400000</td>\n",
              "      <td>75.000000</td>\n",
              "    </tr>\n",
              "    <tr>\n",
              "      <th>max</th>\n",
              "      <td>9.200000</td>\n",
              "      <td>95.000000</td>\n",
              "    </tr>\n",
              "  </tbody>\n",
              "</table>\n",
              "</div>\n",
              "      <button class=\"colab-df-convert\" onclick=\"convertToInteractive('df-147e0c4b-a97e-443d-b334-7a5485ae8167')\"\n",
              "              title=\"Convert this dataframe to an interactive table.\"\n",
              "              style=\"display:none;\">\n",
              "        \n",
              "  <svg xmlns=\"http://www.w3.org/2000/svg\" height=\"24px\"viewBox=\"0 0 24 24\"\n",
              "       width=\"24px\">\n",
              "    <path d=\"M0 0h24v24H0V0z\" fill=\"none\"/>\n",
              "    <path d=\"M18.56 5.44l.94 2.06.94-2.06 2.06-.94-2.06-.94-.94-2.06-.94 2.06-2.06.94zm-11 1L8.5 8.5l.94-2.06 2.06-.94-2.06-.94L8.5 2.5l-.94 2.06-2.06.94zm10 10l.94 2.06.94-2.06 2.06-.94-2.06-.94-.94-2.06-.94 2.06-2.06.94z\"/><path d=\"M17.41 7.96l-1.37-1.37c-.4-.4-.92-.59-1.43-.59-.52 0-1.04.2-1.43.59L10.3 9.45l-7.72 7.72c-.78.78-.78 2.05 0 2.83L4 21.41c.39.39.9.59 1.41.59.51 0 1.02-.2 1.41-.59l7.78-7.78 2.81-2.81c.8-.78.8-2.07 0-2.86zM5.41 20L4 18.59l7.72-7.72 1.47 1.35L5.41 20z\"/>\n",
              "  </svg>\n",
              "      </button>\n",
              "      \n",
              "  <style>\n",
              "    .colab-df-container {\n",
              "      display:flex;\n",
              "      flex-wrap:wrap;\n",
              "      gap: 12px;\n",
              "    }\n",
              "\n",
              "    .colab-df-convert {\n",
              "      background-color: #E8F0FE;\n",
              "      border: none;\n",
              "      border-radius: 50%;\n",
              "      cursor: pointer;\n",
              "      display: none;\n",
              "      fill: #1967D2;\n",
              "      height: 32px;\n",
              "      padding: 0 0 0 0;\n",
              "      width: 32px;\n",
              "    }\n",
              "\n",
              "    .colab-df-convert:hover {\n",
              "      background-color: #E2EBFA;\n",
              "      box-shadow: 0px 1px 2px rgba(60, 64, 67, 0.3), 0px 1px 3px 1px rgba(60, 64, 67, 0.15);\n",
              "      fill: #174EA6;\n",
              "    }\n",
              "\n",
              "    [theme=dark] .colab-df-convert {\n",
              "      background-color: #3B4455;\n",
              "      fill: #D2E3FC;\n",
              "    }\n",
              "\n",
              "    [theme=dark] .colab-df-convert:hover {\n",
              "      background-color: #434B5C;\n",
              "      box-shadow: 0px 1px 3px 1px rgba(0, 0, 0, 0.15);\n",
              "      filter: drop-shadow(0px 1px 2px rgba(0, 0, 0, 0.3));\n",
              "      fill: #FFFFFF;\n",
              "    }\n",
              "  </style>\n",
              "\n",
              "      <script>\n",
              "        const buttonEl =\n",
              "          document.querySelector('#df-147e0c4b-a97e-443d-b334-7a5485ae8167 button.colab-df-convert');\n",
              "        buttonEl.style.display =\n",
              "          google.colab.kernel.accessAllowed ? 'block' : 'none';\n",
              "\n",
              "        async function convertToInteractive(key) {\n",
              "          const element = document.querySelector('#df-147e0c4b-a97e-443d-b334-7a5485ae8167');\n",
              "          const dataTable =\n",
              "            await google.colab.kernel.invokeFunction('convertToInteractive',\n",
              "                                                     [key], {});\n",
              "          if (!dataTable) return;\n",
              "\n",
              "          const docLinkHtml = 'Like what you see? Visit the ' +\n",
              "            '<a target=\"_blank\" href=https://colab.research.google.com/notebooks/data_table.ipynb>data table notebook</a>'\n",
              "            + ' to learn more about interactive tables.';\n",
              "          element.innerHTML = '';\n",
              "          dataTable['output_type'] = 'display_data';\n",
              "          await google.colab.output.renderOutput(dataTable, element);\n",
              "          const docLink = document.createElement('div');\n",
              "          docLink.innerHTML = docLinkHtml;\n",
              "          element.appendChild(docLink);\n",
              "        }\n",
              "      </script>\n",
              "    </div>\n",
              "  </div>\n",
              "  "
            ]
          },
          "metadata": {},
          "execution_count": 5
        }
      ],
      "source": [
        "data.describe()"
      ]
    },
    {
      "cell_type": "code",
      "execution_count": 6,
      "id": "821aa8a6",
      "metadata": {
        "execution": {
          "iopub.execute_input": "2022-08-20T18:30:53.646025Z",
          "iopub.status.busy": "2022-08-20T18:30:53.644736Z",
          "iopub.status.idle": "2022-08-20T18:30:53.653036Z",
          "shell.execute_reply": "2022-08-20T18:30:53.651221Z"
        },
        "papermill": {
          "duration": 0.019716,
          "end_time": "2022-08-20T18:30:53.656073",
          "exception": false,
          "start_time": "2022-08-20T18:30:53.636357",
          "status": "completed"
        },
        "tags": [],
        "id": "821aa8a6"
      },
      "outputs": [],
      "source": [
        "X = data.drop(columns = ['Scores'], axis = 1)\n",
        "y = data.drop(columns = ['Hours'], axis = 1)"
      ]
    },
    {
      "cell_type": "code",
      "execution_count": 7,
      "id": "231ea182",
      "metadata": {
        "execution": {
          "iopub.execute_input": "2022-08-20T18:30:53.671960Z",
          "iopub.status.busy": "2022-08-20T18:30:53.671419Z",
          "iopub.status.idle": "2022-08-20T18:30:54.004229Z",
          "shell.execute_reply": "2022-08-20T18:30:54.002640Z"
        },
        "papermill": {
          "duration": 0.34477,
          "end_time": "2022-08-20T18:30:54.007766",
          "exception": false,
          "start_time": "2022-08-20T18:30:53.662996",
          "status": "completed"
        },
        "tags": [],
        "colab": {
          "base_uri": "https://localhost:8080/",
          "height": 582
        },
        "id": "231ea182",
        "outputId": "b04f6601-5078-4bb9-ab26-7430753bb812"
      },
      "outputs": [
        {
          "output_type": "execute_result",
          "data": {
            "text/plain": [
              "Text(0.5, 1.0, 'plot of number of Study hours vs Marks of the student')"
            ]
          },
          "metadata": {},
          "execution_count": 7
        },
        {
          "output_type": "display_data",
          "data": {
            "text/plain": [
              "<Figure size 1200x600 with 1 Axes>"
            ],
            "image/png": "[encoded data removed]"
          },
          "metadata": {}
        }
      ],
      "source": [
        "plt.figure(figsize = (12, 6))\n",
        "sns.set_style(\"dark\")\n",
        "sns.scatterplot(x = data['Hours'], y = data['Scores'])\n",
        "plt.xlabel(\"number of Study hours\")\n",
        "plt.ylabel(\"Marks of the student\")\n",
        "plt.title(\"plot of number of Study hours vs Marks of the student\")"
      ]
    },
    {
      "cell_type": "code",
      "execution_count": 8,
      "id": "6bc5a7ad",
      "metadata": {
        "execution": {
          "iopub.execute_input": "2022-08-20T18:30:54.026354Z",
          "iopub.status.busy": "2022-08-20T18:30:54.024766Z",
          "iopub.status.idle": "2022-08-20T18:30:54.295483Z",
          "shell.execute_reply": "2022-08-20T18:30:54.294086Z"
        },
        "papermill": {
          "duration": 0.28267,
          "end_time": "2022-08-20T18:30:54.298327",
          "exception": false,
          "start_time": "2022-08-20T18:30:54.015657",
          "status": "completed"
        },
        "tags": [],
        "colab": {
          "base_uri": "https://localhost:8080/",
          "height": 470
        },
        "id": "6bc5a7ad",
        "outputId": "ef1a10ec-b321-426e-992f-6ccb820ec1bb"
      },
      "outputs": [
        {
          "output_type": "execute_result",
          "data": {
            "text/plain": [
              "Text(0.5, 1.0, 'Correlation between columns')"
            ]
          },
          "metadata": {},
          "execution_count": 8
        },
        {
          "output_type": "display_data",
          "data": {
            "text/plain": [
              "<Figure size 640x480 with 2 Axes>"
            ],
            "image/png": "[encoded data removed]"
          },
          "metadata": {}
        }
      ],
      "source": [
        "correlation = data.corr()\n",
        "sns.heatmap(correlation,annot=True)\n",
        "plt.title(\"Correlation between columns\")"
      ]
    },
    {
      "cell_type": "markdown",
      "id": "22187526",
      "metadata": {
        "papermill": {
          "duration": 0.007037,
          "end_time": "2022-08-20T18:30:54.313054",
          "exception": false,
          "start_time": "2022-08-20T18:30:54.306017",
          "status": "completed"
        },
        "tags": [],
        "id": "22187526"
      },
      "source": [
        "## splitting data for the training"
      ]
    },
    {
      "cell_type": "code",
      "execution_count": 9,
      "id": "367d3167",
      "metadata": {
        "execution": {
          "iopub.execute_input": "2022-08-20T18:30:54.331365Z",
          "iopub.status.busy": "2022-08-20T18:30:54.329872Z",
          "iopub.status.idle": "2022-08-20T18:30:54.338743Z",
          "shell.execute_reply": "2022-08-20T18:30:54.337758Z"
        },
        "papermill": {
          "duration": 0.021075,
          "end_time": "2022-08-20T18:30:54.341426",
          "exception": false,
          "start_time": "2022-08-20T18:30:54.320351",
          "status": "completed"
        },
        "tags": [],
        "id": "367d3167"
      },
      "outputs": [],
      "source": [
        "X_train, X_test, y_train, y_test = train_test_split( X, y, test_size=0.2, random_state=42)"
      ]
    },
    {
      "cell_type": "markdown",
      "id": "45f05c09",
      "metadata": {
        "papermill": {
          "duration": 0.007164,
          "end_time": "2022-08-20T18:30:54.355969",
          "exception": false,
          "start_time": "2022-08-20T18:30:54.348805",
          "status": "completed"
        },
        "tags": [],
        "id": "45f05c09"
      },
      "source": [
        "## Modelling"
      ]
    },
    {
      "cell_type": "code",
      "execution_count": 10,
      "id": "6aaf0622",
      "metadata": {
        "execution": {
          "iopub.execute_input": "2022-08-20T18:30:54.374068Z",
          "iopub.status.busy": "2022-08-20T18:30:54.373126Z",
          "iopub.status.idle": "2022-08-20T18:30:54.401611Z",
          "shell.execute_reply": "2022-08-20T18:30:54.400015Z"
        },
        "papermill": {
          "duration": 0.041138,
          "end_time": "2022-08-20T18:30:54.404410",
          "exception": false,
          "start_time": "2022-08-20T18:30:54.363272",
          "status": "completed"
        },
        "tags": [],
        "colab": {
          "base_uri": "https://localhost:8080/",
          "height": 75
        },
        "id": "6aaf0622",
        "outputId": "ac9c1af8-8d9c-41a8-db63-8f2a4247c389"
      },
      "outputs": [
        {
          "output_type": "execute_result",
          "data": {
            "text/plain": [
              "LinearRegression()"
            ],
            "text/html": [
              "<style>#sk-container-id-1 {color: black;background-color: white;}#sk-container-id-1 pre{padding: 0;}#sk-container-id-1 div.sk-toggleable {background-color: white;}#sk-container-id-1 label.sk-toggleable__label {cursor: pointer;display: block;width: 100%;margin-bottom: 0;padding: 0.3em;box-sizing: border-box;text-align: center;}#sk-container-id-1 label.sk-toggleable__label-arrow:before {content: \"▸\";float: left;margin-right: 0.25em;color: #696969;}#sk-container-id-1 label.sk-toggleable__label-arrow:hover:before {color: black;}#sk-container-id-1 div.sk-estimator:hover label.sk-toggleable__label-arrow:before {color: black;}#sk-container-id-1 div.sk-toggleable__content {max-height: 0;max-width: 0;overflow: hidden;text-align: left;background-color: #f0f8ff;}#sk-container-id-1 div.sk-toggleable__content pre {margin: 0.2em;color: black;border-radius: 0.25em;background-color: #f0f8ff;}#sk-container-id-1 input.sk-toggleable__control:checked~div.sk-toggleable__content {max-height: 200px;max-width: 100%;overflow: auto;}#sk-container-id-1 input.sk-toggleable__control:checked~label.sk-toggleable__label-arrow:before {content: \"▾\";}#sk-container-id-1 div.sk-estimator input.sk-toggleable__control:checked~label.sk-toggleable__label {background-color: #d4ebff;}#sk-container-id-1 div.sk-label input.sk-toggleable__control:checked~label.sk-toggleable__label {background-color: #d4ebff;}#sk-container-id-1 input.sk-hidden--visually {border: 0;clip: rect(1px 1px 1px 1px);clip: rect(1px, 1px, 1px, 1px);height: 1px;margin: -1px;overflow: hidden;padding: 0;position: absolute;width: 1px;}#sk-container-id-1 div.sk-estimator {font-family: monospace;background-color: #f0f8ff;border: 1px dotted black;border-radius: 0.25em;box-sizing: border-box;margin-bottom: 0.5em;}#sk-container-id-1 div.sk-estimator:hover {background-color: #d4ebff;}#sk-container-id-1 div.sk-parallel-item::after {content: \"\";width: 100%;border-bottom: 1px solid gray;flex-grow: 1;}#sk-container-id-1 div.sk-label:hover label.sk-toggleable__label {background-color: #d4ebff;}#sk-container-id-1 div.sk-serial::before {content: \"\";position: absolute;border-left: 1px solid gray;box-sizing: border-box;top: 0;bottom: 0;left: 50%;z-index: 0;}#sk-container-id-1 div.sk-serial {display: flex;flex-direction: column;align-items: center;background-color: white;padding-right: 0.2em;padding-left: 0.2em;position: relative;}#sk-container-id-1 div.sk-item {position: relative;z-index: 1;}#sk-container-id-1 div.sk-parallel {display: flex;align-items: stretch;justify-content: center;background-color: white;position: relative;}#sk-container-id-1 div.sk-item::before, #sk-container-id-1 div.sk-parallel-item::before {content: \"\";position: absolute;border-left: 1px solid gray;box-sizing: border-box;top: 0;bottom: 0;left: 50%;z-index: -1;}#sk-container-id-1 div.sk-parallel-item {display: flex;flex-direction: column;z-index: 1;position: relative;background-color: white;}#sk-container-id-1 div.sk-parallel-item:first-child::after {align-self: flex-end;width: 50%;}#sk-container-id-1 div.sk-parallel-item:last-child::after {align-self: flex-start;width: 50%;}#sk-container-id-1 div.sk-parallel-item:only-child::after {width: 0;}#sk-container-id-1 div.sk-dashed-wrapped {border: 1px dashed gray;margin: 0 0.4em 0.5em 0.4em;box-sizing: border-box;padding-bottom: 0.4em;background-color: white;}#sk-container-id-1 div.sk-label label {font-family: monospace;font-weight: bold;display: inline-block;line-height: 1.2em;}#sk-container-id-1 div.sk-label-container {text-align: center;}#sk-container-id-1 div.sk-container {/* jupyter's `normalize.less` sets `[hidden] { display: none; }` but bootstrap.min.css set `[hidden] { display: none !important; }` so we also need the `!important` here to be able to override the default hidden behavior on the sphinx rendered scikit-learn.org. See: https://github.com/scikit-learn/scikit-learn/issues/21755 */display: inline-block !important;position: relative;}#sk-container-id-1 div.sk-text-repr-fallback {display: none;}</style><div id=\"sk-container-id-1\" class=\"sk-top-container\"><div class=\"sk-text-repr-fallback\"><pre>LinearRegression()</pre><b>In a Jupyter environment, please rerun this cell to show the HTML representation or trust the notebook. <br />On GitHub, the HTML representation is unable to render, please try loading this page with nbviewer.org.</b></div><div class=\"sk-container\" hidden><div class=\"sk-item\"><div class=\"sk-estimator sk-toggleable\"><input class=\"sk-toggleable__control sk-hidden--visually\" id=\"sk-estimator-id-1\" type=\"checkbox\" checked><label for=\"sk-estimator-id-1\" class=\"sk-toggleable__label sk-toggleable__label-arrow\">LinearRegression</label><div class=\"sk-toggleable__content\"><pre>LinearRegression()</pre></div></div></div></div></div>"
            ]
          },
          "metadata": {},
          "execution_count": 10
        }
      ],
      "source": [
        "model = LinearRegression()\n",
        "model.fit(X_train, y_train)"
      ]
    },
    {
      "cell_type": "code",
      "execution_count": 11,
      "id": "9f8c3d6d",
      "metadata": {
        "execution": {
          "iopub.execute_input": "2022-08-20T18:30:54.423323Z",
          "iopub.status.busy": "2022-08-20T18:30:54.422754Z",
          "iopub.status.idle": "2022-08-20T18:30:54.430343Z",
          "shell.execute_reply": "2022-08-20T18:30:54.428803Z"
        },
        "papermill": {
          "duration": 0.021512,
          "end_time": "2022-08-20T18:30:54.434120",
          "exception": false,
          "start_time": "2022-08-20T18:30:54.412608",
          "status": "completed"
        },
        "tags": [],
        "colab": {
          "base_uri": "https://localhost:8080/"
        },
        "id": "9f8c3d6d",
        "outputId": "161f4750-e9d7-414f-98b4-1e49a9f9d15b"
      },
      "outputs": [
        {
          "output_type": "stream",
          "name": "stdout",
          "text": [
            "Coefficient of the model:  [[9.68207815]]\n",
            "Intercept of the model:  [2.82689235]\n"
          ]
        }
      ],
      "source": [
        "print(\"Coefficient of the model: \",model.coef_)\n",
        "print(\"Intercept of the model: \", model.intercept_)"
      ]
    },
    {
      "cell_type": "code",
      "execution_count": 12,
      "id": "c3d36d1b",
      "metadata": {
        "execution": {
          "iopub.execute_input": "2022-08-20T18:30:54.451180Z",
          "iopub.status.busy": "2022-08-20T18:30:54.450693Z",
          "iopub.status.idle": "2022-08-20T18:30:54.459085Z",
          "shell.execute_reply": "2022-08-20T18:30:54.457308Z"
        },
        "papermill": {
          "duration": 0.020058,
          "end_time": "2022-08-20T18:30:54.461697",
          "exception": false,
          "start_time": "2022-08-20T18:30:54.441639",
          "status": "completed"
        },
        "tags": [],
        "id": "c3d36d1b"
      },
      "outputs": [],
      "source": [
        "y_pred = model.predict(X_train)"
      ]
    },
    {
      "cell_type": "code",
      "execution_count": 13,
      "id": "d1c32d47",
      "metadata": {
        "execution": {
          "iopub.execute_input": "2022-08-20T18:30:54.479579Z",
          "iopub.status.busy": "2022-08-20T18:30:54.478621Z",
          "iopub.status.idle": "2022-08-20T18:30:54.796928Z",
          "shell.execute_reply": "2022-08-20T18:30:54.795851Z"
        },
        "papermill": {
          "duration": 0.330271,
          "end_time": "2022-08-20T18:30:54.799558",
          "exception": false,
          "start_time": "2022-08-20T18:30:54.469287",
          "status": "completed"
        },
        "tags": [],
        "colab": {
          "base_uri": "https://localhost:8080/",
          "height": 582
        },
        "id": "d1c32d47",
        "outputId": "7d0b85d5-570a-4418-e421-e9eac419191f"
      },
      "outputs": [
        {
          "output_type": "execute_result",
          "data": {
            "text/plain": [
              "Text(0.5, 1.0, 'plot of number of Study hours vs Marks of the student')"
            ]
          },
          "metadata": {},
          "execution_count": 13
        },
        {
          "output_type": "display_data",
          "data": {
            "text/plain": [
              "<Figure size 1200x600 with 1 Axes>"
            ],
            "image/png": "[encoded data removed]"
          },
          "metadata": {}
        }
      ],
      "source": [
        "plt.figure(figsize = (12, 6))\n",
        "sns.set_style(\"dark\")\n",
        "plt.scatter(X_train, y_train, color='red')\n",
        "plt.plot(X_train, y_pred)\n",
        "plt.xlabel(\"number of Study hours\")\n",
        "plt.ylabel(\"Marks of the student\")\n",
        "plt.title(\"plot of number of Study hours vs Marks of the student\")"
      ]
    },
    {
      "cell_type": "markdown",
      "id": "911fdf34",
      "metadata": {
        "papermill": {
          "duration": 0.007789,
          "end_time": "2022-08-20T18:30:54.815490",
          "exception": false,
          "start_time": "2022-08-20T18:30:54.807701",
          "status": "completed"
        },
        "tags": [],
        "id": "911fdf34"
      },
      "source": [
        "## model evaluation"
      ]
    },
    {
      "cell_type": "code",
      "execution_count": 14,
      "id": "ce03260d",
      "metadata": {
        "execution": {
          "iopub.execute_input": "2022-08-20T18:30:54.834516Z",
          "iopub.status.busy": "2022-08-20T18:30:54.833126Z",
          "iopub.status.idle": "2022-08-20T18:30:54.841578Z",
          "shell.execute_reply": "2022-08-20T18:30:54.840576Z"
        },
        "papermill": {
          "duration": 0.020644,
          "end_time": "2022-08-20T18:30:54.844231",
          "exception": false,
          "start_time": "2022-08-20T18:30:54.823587",
          "status": "completed"
        },
        "tags": [],
        "id": "ce03260d"
      },
      "outputs": [],
      "source": [
        "y_pred = model.predict(X_test)"
      ]
    },
    {
      "cell_type": "code",
      "execution_count": 15,
      "id": "061932b7",
      "metadata": {
        "execution": {
          "iopub.execute_input": "2022-08-20T18:30:54.863183Z",
          "iopub.status.busy": "2022-08-20T18:30:54.862250Z",
          "iopub.status.idle": "2022-08-20T18:30:55.148424Z",
          "shell.execute_reply": "2022-08-20T18:30:55.147082Z"
        },
        "papermill": {
          "duration": 0.29895,
          "end_time": "2022-08-20T18:30:55.151191",
          "exception": false,
          "start_time": "2022-08-20T18:30:54.852241",
          "status": "completed"
        },
        "tags": [],
        "colab": {
          "base_uri": "https://localhost:8080/",
          "height": 582
        },
        "id": "061932b7",
        "outputId": "af7a26d3-9153-43f1-970d-0d2764f796d5"
      },
      "outputs": [
        {
          "output_type": "execute_result",
          "data": {
            "text/plain": [
              "Text(0.5, 1.0, 'Actual vs Predicted Marks')"
            ]
          },
          "metadata": {},
          "execution_count": 15
        },
        {
          "output_type": "display_data",
          "data": {
            "text/plain": [
              "<Figure size 1200x600 with 1 Axes>"
            ],
            "image/png": "[encoded data removed]"
          },
          "metadata": {}
        }
      ],
      "source": [
        "plt.figure(figsize = (12, 6))\n",
        "sns.set_style(\"dark\")\n",
        "plt.scatter(X_test, y_test, color = 'red')\n",
        "plt.plot(X_test, y_pred)\n",
        "plt.xlabel(\"number of Study hours\")\n",
        "plt.ylabel(\"Marks of the student\")\n",
        "plt.title(\"Actual vs Predicted Marks\")"
      ]
    },
    {
      "cell_type": "code",
      "execution_count": 16,
      "id": "ca723778",
      "metadata": {
        "execution": {
          "iopub.execute_input": "2022-08-20T18:30:55.172121Z",
          "iopub.status.busy": "2022-08-20T18:30:55.170663Z",
          "iopub.status.idle": "2022-08-20T18:30:55.192249Z",
          "shell.execute_reply": "2022-08-20T18:30:55.190342Z"
        },
        "papermill": {
          "duration": 0.03641,
          "end_time": "2022-08-20T18:30:55.196506",
          "exception": false,
          "start_time": "2022-08-20T18:30:55.160096",
          "status": "completed"
        },
        "tags": [],
        "colab": {
          "base_uri": "https://localhost:8080/"
        },
        "id": "ca723778",
        "outputId": "58259d56-2f1c-430a-abf5-2d1ec77fae4c"
      },
      "outputs": [
        {
          "output_type": "stream",
          "name": "stdout",
          "text": [
            "Accuracy:  96.78\n",
            "MAE:       3.92\n",
            "MSE:       18.94\n",
            "RMSE:      4.35\n",
            "R2 score:  0.97\n"
          ]
        }
      ],
      "source": [
        "acc = model.score(X_test, y_test)\n",
        "print(\"Accuracy: \", round(acc*100, 2))\n",
        "print(\"MAE:      \",round(mean_absolute_error(y_test,y_pred), 2))\n",
        "print(\"MSE:      \",round(mean_squared_error(y_test,y_pred), 2))\n",
        "print(\"RMSE:     \",round(np.sqrt(mean_squared_error(y_test,y_pred)), 2))\n",
        "print(\"R2 score: \", round(r2_score(y_test,y_pred), 2))"
      ]
    },
    {
      "cell_type": "markdown",
      "id": "01856770",
      "metadata": {
        "papermill": {
          "duration": 0.008743,
          "end_time": "2022-08-20T18:30:55.215277",
          "exception": false,
          "start_time": "2022-08-20T18:30:55.206534",
          "status": "completed"
        },
        "tags": [],
        "id": "01856770"
      },
      "source": [
        "## Prediction"
      ]
    },
    {
      "cell_type": "code",
      "execution_count": 17,
      "id": "f77cfa03",
      "metadata": {
        "execution": {
          "iopub.execute_input": "2022-08-20T18:30:55.236240Z",
          "iopub.status.busy": "2022-08-20T18:30:55.235246Z",
          "iopub.status.idle": "2022-08-20T18:30:55.244282Z",
          "shell.execute_reply": "2022-08-20T18:30:55.242569Z"
        },
        "papermill": {
          "duration": 0.023161,
          "end_time": "2022-08-20T18:30:55.247770",
          "exception": false,
          "start_time": "2022-08-20T18:30:55.224609",
          "status": "completed"
        },
        "tags": [],
        "colab": {
          "base_uri": "https://localhost:8080/"
        },
        "id": "f77cfa03",
        "outputId": "2b54bee6-07c1-493a-cae1-4883ab85b818"
      },
      "outputs": [
        {
          "output_type": "stream",
          "name": "stdout",
          "text": [
            "Marks of student who studied 9.25 hours a day:   [[92.38611528]]\n"
          ]
        }
      ],
      "source": [
        "print(\"Marks of student who studied 9.25 hours a day:  \", model.predict([[9.25]]))"
      ]
    }
  ],
  "metadata": {
    "kernelspec": {
      "display_name": "Python 3",
      "language": "python",
      "name": "python3"
    },
    "language_info": {
      "codemirror_mode": {
        "name": "ipython",
        "version": 3
      },
      "file_extension": ".py",
      "mimetype": "text/x-python",
      "name": "python",
      "nbconvert_exporter": "python",
      "pygments_lexer": "ipython3",
      "version": "3.7.12"
    },
    "papermill": {
      "default_parameters": {},
      "duration": 16.754465,
      "end_time": "2022-08-20T18:30:56.381863",
      "environment_variables": {},
      "exception": null,
      "input_path": "__notebook__.ipynb",
      "output_path": "__notebook__.ipynb",
      "parameters": {},
      "start_time": "2022-08-20T18:30:39.627398",
      "version": "2.3.4"
    },
    "colab": {
      "provenance": [],
      "include_colab_link": true
    }
  },
  "nbformat": 4,
  "nbformat_minor": 5
}